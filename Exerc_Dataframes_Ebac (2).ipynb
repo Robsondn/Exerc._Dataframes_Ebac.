{
 "cells": [
  {
   "cell_type": "markdown",
   "id": "4b7c7a01-209f-433f-a945-2fa96f3b360c",
   "metadata": {},
   "source": [
    "Criando uma série do pandas a partir de uma lista com os dados abaixo:\n",
    "Em um estudo sobre alteração na tempreatura global, A NASA disponibiliza dados de diferenças de de temperatura média da superfície terrestre relativos às médias de temperatura entre 1951 e 1980. Os dados originais podem ser vistos no site da NASA/GISS, e estão dispostos a cada década na tabela abaixo."
   ]
  },
  {
   "cell_type": "code",
   "execution_count": 1,
   "id": "a06dbf05-70e4-4ef8-b694-dfbbd5d863d6",
   "metadata": {},
   "outputs": [],
   "source": [
    "ano = ('1900','1920','1940','1960','1980','2000','2020')\n",
    "anomalia_termica = ('-0.08','-0.27','0.12','-0.03','0.26','0.40','1.02')\n"
   ]
  },
  {
   "cell_type": "markdown",
   "id": "2f55e931-b62b-4c60-b23b-16650490c202",
   "metadata": {},
   "source": [
    "Criando uma séries do Pandas a partir de uma lista com esses dados abaixo."
   ]
  },
  {
   "cell_type": "code",
   "execution_count": 2,
   "id": "e9219fb7-3a59-4d1b-a8c9-fcc7d2c0e4cb",
   "metadata": {},
   "outputs": [
    {
     "name": "stdout",
     "output_type": "stream",
     "text": [
      "0   -0.08\n",
      "1   -0.27\n",
      "2    0.12\n",
      "3   -0.03\n",
      "4    0.26\n",
      "5    0.40\n",
      "6    1.02\n",
      "dtype: float64\n"
     ]
    }
   ],
   "source": [
    "import pandas as pd\n",
    "import numpy as np\n",
    "\n",
    "# Definindo os dados\n",
    "temperaturas = [-0.08, -0.27, 0.12, -0.03, 0.26, 0.40, 1.02] \n",
    "\n",
    "# Criando a Série do Pandas\n",
    "serie = pd.Series(temperaturas)\n",
    "\n",
    "# Exibindo a Série \n",
    "print(serie)"
   ]
  },
  {
   "cell_type": "code",
   "execution_count": 3,
   "id": "943c5f38-885e-4b42-aae6-89e2c873f2a6",
   "metadata": {},
   "outputs": [
    {
     "name": "stdout",
     "output_type": "stream",
     "text": [
      "1900   -0.08\n",
      "1920   -0.27\n",
      "1940    0.12\n",
      "1960   -0.03\n",
      "1980    0.26\n",
      "2000    0.40\n",
      "2020    1.02\n",
      "dtype: float64\n"
     ]
    }
   ],
   "source": [
    "# Definindo os dados e os anos\n",
    "temperaturas = [-0.08, -0.27, 0.12, -0.03, 0.26, 0.40, 1.02] \n",
    "anos = [1900, 1920, 1940, 1960, 1980, 2000, 2020]\n",
    "\n",
    "# Criando a série com os anos como índices\n",
    "serie = pd.Series(temperaturas, index=anos)\n",
    "\n",
    "# Exibindo a série\n",
    "print(serie)"
   ]
  },
  {
   "cell_type": "code",
   "execution_count": 4,
   "id": "55049910-f2fb-40a8-b637-e9d2e594da0e",
   "metadata": {},
   "outputs": [
    {
     "name": "stdout",
     "output_type": "stream",
     "text": [
      "1900   -0.08\n",
      "1920   -0.27\n",
      "1940    0.12\n",
      "1960   -0.03\n",
      "1980    0.26\n",
      "2000    0.40\n",
      "2020    1.02\n",
      "dtype: float64\n"
     ]
    }
   ],
   "source": [
    "dic_temperaturas = {1900: -.08, 1920: -.27, 1940: .12, 1960: -.03, 1980: .26, 2000: .40, 2020: 1.02}\n",
    "\n",
    "# Criando a série a partir do dicionário\n",
    "serie_temperaturas = pd.Series(dic_temperaturas)\n",
    "\n",
    "# Exibindo a série\n",
    "print(serie_temperaturas)"
   ]
  },
  {
   "cell_type": "code",
   "execution_count": 5,
   "id": "b8998f23-f669-4bc1-b15f-6808b17efd55",
   "metadata": {},
   "outputs": [
    {
     "name": "stdout",
     "output_type": "stream",
     "text": [
      "             0           1           2\n",
      "0   113.532578   81.226724  104.792875\n",
      "1    86.153738  109.890136  117.367934\n",
      "2   105.766023  103.921741  107.347951\n",
      "3    91.563253   89.926843  105.017843\n",
      "4    98.948179   95.582024  100.567568\n",
      "5    92.777664   95.503073   85.599984\n",
      "6   117.188362   92.229742   92.215971\n",
      "7    82.550688  109.939019   94.104189\n",
      "8    90.878647   77.107837   96.061331\n",
      "9    83.343814   94.867137  117.884281\n",
      "10  103.883928   95.974852  103.533079\n",
      "11   97.464619   74.119728  104.067408\n",
      "12   96.478421   99.098311   86.403337\n",
      "13   92.138275   84.114633   93.035325\n",
      "14  102.930764  101.194415  107.094975\n",
      "15   97.270596  117.026761   87.324466\n",
      "16  104.987804   79.972080  102.874684\n",
      "17   96.313011  110.895598  111.357276\n",
      "18   98.378853   96.567966   96.296773\n",
      "19   92.170445   94.662650   99.267926\n"
     ]
    }
   ],
   "source": [
    "arr = np.random.normal(100, 10, (20,3))\n",
    "\n",
    "# Transformar o ndarray em DataFrame\n",
    "df = pd.DataFrame(arr)\n",
    "\n",
    "# Exibir o DataFrame\n",
    "print(df)"
   ]
  },
  {
   "cell_type": "code",
   "execution_count": 6,
   "id": "34e49d7a-af84-49cd-adba-00f6a3fd00c5",
   "metadata": {},
   "outputs": [
    {
     "name": "stdout",
     "output_type": "stream",
     "text": [
      "            x1          x2          x3\n",
      "1    95.914339   97.203109   95.180359\n",
      "2   102.527639  100.092296   97.096843\n",
      "3   110.805916  125.086320  116.113782\n",
      "4   105.115297   86.518766   97.510945\n",
      "5    99.045829  117.724781   87.219791\n",
      "6    91.428006   94.805887  118.733286\n",
      "7    88.841144   95.742171  103.342288\n",
      "8    95.480309   99.426082   88.432296\n",
      "9   113.191075   95.277716  111.794696\n",
      "10  110.314288   92.710667   92.160607\n",
      "11   85.170685  118.300499   98.284368\n",
      "12   88.854449   96.348608  104.936308\n",
      "13  115.444357   90.815115  111.034152\n",
      "14   90.916908  104.190968  113.242739\n",
      "15   80.339205  101.841425  106.201375\n",
      "16   81.042820   92.669120  102.457063\n",
      "17  106.628633  101.396918  100.869052\n",
      "18  117.081480   93.153271   90.316192\n",
      "19  108.886110  104.140560  107.284710\n",
      "20  108.463672  104.135617   88.524501\n"
     ]
    }
   ],
   "source": [
    "arr = np.random.normal(100, 10, (20,3))\n",
    "df = pd.DataFrame(arr)\n",
    "\n",
    "# Nomeando os índices das linhas\n",
    "df.index = range(1, 21)  \n",
    "\n",
    "# Nomeando as colunas\n",
    "df.columns = ['x1', 'x2', 'x3']  \n",
    "\n",
    "# Exibindo o DataFrame\n",
    "print(df)"
   ]
  },
  {
   "cell_type": "code",
   "execution_count": 7,
   "id": "6df7992b-aaf3-4cdb-9566-fb30b72208c2",
   "metadata": {},
   "outputs": [
    {
     "name": "stdout",
     "output_type": "stream",
     "text": [
      "            x1          x2          x3       media\n",
      "1    95.914339   97.203109   95.180359   96.099269\n",
      "2   102.527639  100.092296   97.096843   99.905592\n",
      "3   110.805916  125.086320  116.113782  117.335340\n",
      "4   105.115297   86.518766   97.510945   96.381669\n",
      "5    99.045829  117.724781   87.219791  101.330134\n",
      "6    91.428006   94.805887  118.733286  101.655726\n",
      "7    88.841144   95.742171  103.342288   95.975201\n",
      "8    95.480309   99.426082   88.432296   94.446229\n",
      "9   113.191075   95.277716  111.794696  106.754496\n",
      "10  110.314288   92.710667   92.160607   98.395187\n",
      "11   85.170685  118.300499   98.284368  100.585184\n",
      "12   88.854449   96.348608  104.936308   96.713122\n",
      "13  115.444357   90.815115  111.034152  105.764541\n",
      "14   90.916908  104.190968  113.242739  102.783538\n",
      "15   80.339205  101.841425  106.201375   96.127335\n",
      "16   81.042820   92.669120  102.457063   92.056334\n",
      "17  106.628633  101.396918  100.869052  102.964867\n",
      "18  117.081480   93.153271   90.316192  100.183648\n",
      "19  108.886110  104.140560  107.284710  106.770460\n",
      "20  108.463672  104.135617   88.524501  100.374597\n"
     ]
    }
   ],
   "source": [
    "# Criando a coluna \"media\"\n",
    "df['media'] = df[['x1', 'x2', 'x3']].mean(axis=1)  \n",
    "\n",
    "# Exibindo o DataFrame\n",
    "print(df)"
   ]
  },
  {
   "cell_type": "code",
   "execution_count": 8,
   "id": "fb9502c6-547f-46fb-bb52-6e6c72e240b1",
   "metadata": {},
   "outputs": [
    {
     "name": "stdout",
     "output_type": "stream",
     "text": [
      "            x1          x2          x3       media   log_med\n",
      "1    95.914339   97.203109   95.180359   96.099269  4.565382\n",
      "2   102.527639  100.092296   97.096843   99.905592  4.604226\n",
      "3   110.805916  125.086320  116.113782  117.335340  4.765036\n",
      "4   105.115297   86.518766   97.510945   96.381669  4.568316\n",
      "5    99.045829  117.724781   87.219791  101.330134  4.618384\n",
      "6    91.428006   94.805887  118.733286  101.655726  4.621592\n",
      "7    88.841144   95.742171  103.342288   95.975201  4.564090\n",
      "8    95.480309   99.426082   88.432296   94.446229  4.548031\n",
      "9   113.191075   95.277716  111.794696  106.754496  4.670532\n",
      "10  110.314288   92.710667   92.160607   98.395187  4.588992\n",
      "11   85.170685  118.300499   98.284368  100.585184  4.611005\n",
      "12   88.854449   96.348608  104.936308   96.713122  4.571749\n",
      "13  115.444357   90.815115  111.034152  105.764541  4.661215\n",
      "14   90.916908  104.190968  113.242739  102.783538  4.632625\n",
      "15   80.339205  101.841425  106.201375   96.127335  4.565674\n",
      "16   81.042820   92.669120  102.457063   92.056334  4.522401\n",
      "17  106.628633  101.396918  100.869052  102.964867  4.634388\n",
      "18  117.081480   93.153271   90.316192  100.183648  4.607005\n",
      "19  108.886110  104.140560  107.284710  106.770460  4.670681\n",
      "20  108.463672  104.135617   88.524501  100.374597  4.608909\n"
     ]
    }
   ],
   "source": [
    "# Criando a coluna \"log_med\"\n",
    "df['log_med'] = np.log(df['media'])  \n",
    "\n",
    "# Exibindo o DataFrame\n",
    "print(df)"
   ]
  }
 ],
 "metadata": {
  "kernelspec": {
   "display_name": "Python 3 (ipykernel)",
   "language": "python",
   "name": "python3"
  },
  "language_info": {
   "codemirror_mode": {
    "name": "ipython",
    "version": 3
   },
   "file_extension": ".py",
   "mimetype": "text/x-python",
   "name": "python",
   "nbconvert_exporter": "python",
   "pygments_lexer": "ipython3",
   "version": "3.12.4"
  }
 },
 "nbformat": 4,
 "nbformat_minor": 5
}
